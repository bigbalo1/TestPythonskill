{
  "nbformat": 4,
  "nbformat_minor": 0,
  "metadata": {
    "colab": {
      "provenance": [],
      "collapsed_sections": [],
      "authorship_tag": "ABX9TyOtI23rT8aGzv0JdQY+xtDU",
      "include_colab_link": true
    },
    "kernelspec": {
      "name": "python3",
      "display_name": "Python 3"
    },
    "language_info": {
      "name": "python"
    }
  },
  "cells": [
    {
      "cell_type": "markdown",
      "metadata": {
        "id": "view-in-github",
        "colab_type": "text"
      },
      "source": [
        "<a href=\"https://colab.research.google.com/github/bigbalo1/TestPythonskill/blob/main/Untitled4.ipynb\" target=\"_parent\"><img src=\"https://colab.research.google.com/assets/colab-badge.svg\" alt=\"Open In Colab\"/></a>"
      ]
    },
    {
      "cell_type": "markdown",
      "source": [
        "Write a program that will find all numbers which are divisible by 7 but are not a multiple of 5, between 2000 and 3200 (both included). The numbers obtained should be printed in a list.\n",
        "\n",
        "Hint: Consider using the range(#begin, #end) method.\n",
        " "
      ],
      "metadata": {
        "id": "kdSqJ8sOKGXG"
      }
    },
    {
      "cell_type": "code",
      "source": [
        "l=[]\n",
        "for i in range(2000, 3201):\n",
        "    if (i%7==0) and (i%5!=0):\n",
        "        l.append(str(i))\n",
        "\n",
        "print(','.join(l))"
      ],
      "metadata": {
        "colab": {
          "base_uri": "https://localhost:8080/"
        },
        "id": "7FJZWO7WJ_iy",
        "outputId": "5398bc17-536c-42d8-e3cb-03ef1f66eab6"
      },
      "execution_count": 3,
      "outputs": [
        {
          "output_type": "stream",
          "name": "stdout",
          "text": [
            "2002,2009,2016,2023,2037,2044,2051,2058,2072,2079,2086,2093,2107,2114,2121,2128,2142,2149,2156,2163,2177,2184,2191,2198,2212,2219,2226,2233,2247,2254,2261,2268,2282,2289,2296,2303,2317,2324,2331,2338,2352,2359,2366,2373,2387,2394,2401,2408,2422,2429,2436,2443,2457,2464,2471,2478,2492,2499,2506,2513,2527,2534,2541,2548,2562,2569,2576,2583,2597,2604,2611,2618,2632,2639,2646,2653,2667,2674,2681,2688,2702,2709,2716,2723,2737,2744,2751,2758,2772,2779,2786,2793,2807,2814,2821,2828,2842,2849,2856,2863,2877,2884,2891,2898,2912,2919,2926,2933,2947,2954,2961,2968,2982,2989,2996,3003,3017,3024,3031,3038,3052,3059,3066,3073,3087,3094,3101,3108,3122,3129,3136,3143,3157,3164,3171,3178,3192,3199\n"
          ]
        }
      ]
    },
    {
      "cell_type": "markdown",
      "source": [
        "Write a program that can compute the factorial of a given number. (The factorial of n is the product of all positive integers less than or equal to n.) For example: For factorial(5)= 5 x 4 x 3 x 2 x 1 the result is 120 (i.e. factorial (0)=1)."
      ],
      "metadata": {
        "id": "oxlX3BvSOOWJ"
      }
    },
    {
      "cell_type": "code",
      "source": [
        "def factorial(n):\n",
        "     \n",
        "    # single line to find factorial\n",
        "    return 1 if (n==1 or n==0) else n * factorial(n - 1);\n",
        " \n",
        "# Driver Code\n",
        "num = 5;\n",
        "print(\"Factorial of\",num,\"is\",\n",
        "factorial(num))"
      ],
      "metadata": {
        "colab": {
          "base_uri": "https://localhost:8080/"
        },
        "id": "eKt9mroyOGyh",
        "outputId": "0a91e1db-5c4e-47bf-c9ba-72bc811e0b64"
      },
      "execution_count": 5,
      "outputs": [
        {
          "output_type": "stream",
          "name": "stdout",
          "text": [
            "Factorial of 5 is 120\n"
          ]
        }
      ]
    },
    {
      "cell_type": "markdown",
      "source": [
        "With a given integer number n, write a program to generate a dictionary that contains (i, i*i) such that is an integral number between 1 and n (both included). Then, the program should print the dictionary. Suppose the following input is supplied to the program: 8 Then, the output should be: {1: 1, 2: 4, 3: 9, 4: 16, 5: 25, 6: 36, 7: 49, 8: 64}  "
      ],
      "metadata": {
        "id": "t2Hiqb0ZUaJC"
      }
    },
    {
      "cell_type": "code",
      "source": [
        "n=int(input())\n",
        "d=dict()\n",
        "for i in range(1,n+1):\n",
        "    d[i]=i*i\n",
        "\n",
        "print(d)"
      ],
      "metadata": {
        "colab": {
          "base_uri": "https://localhost:8080/"
        },
        "id": "mACpXF5QUy66",
        "outputId": "06231b2b-0aee-42fa-a7a0-35385506bcf4"
      },
      "execution_count": 6,
      "outputs": [
        {
          "output_type": "stream",
          "name": "stdout",
          "text": [
            "8\n",
            "{1: 1, 2: 4, 3: 9, 4: 16, 5: 25, 6: 36, 7: 49, 8: 64}\n"
          ]
        }
      ]
    },
    {
      "cell_type": "markdown",
      "source": [
        "Given a non-empty string and an integral n, return a new string where the char at index n has been removed. The value of n will be a valid index of a char in the original string (i.e. n will be in the range 0..len(str)-1 inclusive). \n",
        "\n",
        "missing_char('kitten', 1) → 'ktten'    for example here we remove \"i\" which is located in the index 1\n",
        "\n",
        "missing_char('kitten', 0) → 'itten'   here we remove \"k\" which is in the index 0\n",
        "\n",
        "missing_char('kitten', 4) → 'kittn'   here we remove \"e\" which is in the index 4"
      ],
      "metadata": {
        "id": "8XjSjpe0WTsX"
      }
    },
    {
      "cell_type": "code",
      "source": [
        "def missing_char(kitten, n):\n",
        "   new_kitten =  kitten.replace(kitten[n], '')\n",
        "   return new_kitten\n",
        "   "
      ],
      "metadata": {
        "id": "U6BgPpGKWYEQ"
      },
      "execution_count": 7,
      "outputs": []
    },
    {
      "cell_type": "code",
      "source": [
        "missing_char(\"kitten\", 2)"
      ],
      "metadata": {
        "colab": {
          "base_uri": "https://localhost:8080/",
          "height": 36
        },
        "id": "8-thZmf6aNL7",
        "outputId": "e55c0d9d-6f5a-467f-c095-fe160a10b666"
      },
      "execution_count": 10,
      "outputs": [
        {
          "output_type": "execute_result",
          "data": {
            "text/plain": [
              "'kien'"
            ],
            "application/vnd.google.colaboratory.intrinsic+json": {
              "type": "string"
            }
          },
          "metadata": {},
          "execution_count": 10
        }
      ]
    },
    {
      "cell_type": "markdown",
      "source": [
        "Write a NumPy program to convert a NumPy array into a Python list structure.\n",
        "\n",
        "Expected output: \n",
        "\n",
        "Original array elements: [[0 1] [2 3] [4 5]] \n",
        "\n",
        "Array to list: [[0, 1], [2, 3], [4, 5]] "
      ],
      "metadata": {
        "id": "7Vlc-OqbbPJS"
      }
    },
    {
      "cell_type": "code",
      "source": [
        "import numpy as np\n",
        "x= np.arange(6).reshape(3, 2)\n",
        "print(\"Original array elements:\")\n",
        "print(x)\n",
        "print(\"Array to list:\")\n",
        "print(x.tolist())"
      ],
      "metadata": {
        "colab": {
          "base_uri": "https://localhost:8080/"
        },
        "id": "h-GshfolbNRo",
        "outputId": "cfbdf083-3d5a-471d-cdcc-6da5ecff3157"
      },
      "execution_count": 11,
      "outputs": [
        {
          "output_type": "stream",
          "name": "stdout",
          "text": [
            "Original array elements:\n",
            "[[0 1]\n",
            " [2 3]\n",
            " [4 5]]\n",
            "Array to list:\n",
            "[[0, 1], [2, 3], [4, 5]]\n"
          ]
        }
      ]
    },
    {
      "cell_type": "markdown",
      "source": [
        "Write a NumPy program to compute the covariance matrix of two given arrays. \n",
        "\n",
        "Original array1: [0 1 2] \n",
        "\n",
        "Original array2: [2 1 0] \n",
        "\n",
        "Covariance matrix of the said arrays: [[ 1. -1.] [-1. 1.]]\n",
        " \n",
        "\n",
        "Hint: We can use the np.cov() function to calculate the covariance between these two arrays"
      ],
      "metadata": {
        "id": "g38nVRnmcFh4"
      }
    },
    {
      "cell_type": "code",
      "source": [
        "import numpy as np\n",
        "x = np.array([0, 1, 2])\n",
        "y = np.array([2, 1, 0])\n",
        "print(\"\\nOriginal array1:\")\n",
        "print(x)\n",
        "print(\"\\nOriginal array1:\")\n",
        "print(y)\n",
        "print(\"\\nCovariance matrix of the said arrays:\\n\",np.cov(x, y))"
      ],
      "metadata": {
        "colab": {
          "base_uri": "https://localhost:8080/"
        },
        "id": "rV-vrFdHcBOx",
        "outputId": "2fd46fab-2db1-45b2-efaf-2e7ecdf717e9"
      },
      "execution_count": 12,
      "outputs": [
        {
          "output_type": "stream",
          "name": "stdout",
          "text": [
            "\n",
            "Original array1:\n",
            "[0 1 2]\n",
            "\n",
            "Original array1:\n",
            "[2 1 0]\n",
            "\n",
            "Covariance matrix of the said arrays:\n",
            " [[ 1. -1.]\n",
            " [-1.  1.]]\n"
          ]
        }
      ]
    },
    {
      "cell_type": "markdown",
      "source": [
        "Question: Write a program that calculates and prints the value according to the given formula: Q= Square root of [(2 * C * D)/H] \n",
        "\n",
        "The following are the fixed values of C and H: C is 50. H is 30. \n",
        "\n",
        "D is the variable whose values should be input into your program in a comma-separated sequence. (That means D contains more than value)\n",
        "\n",
        "Example: Let's assume the following comma-separated input sequence is given to the program: 100,150,180 The output of the program should be 18,22,24 \n",
        "\n",
        "To further explain this, we will obtain a result for each value of D:  Q1= Square root of [(2 * C * 100)/H] =18, Q2= Square root of [(2 * C * 150)/H] = 22 and Q3 = Square root of [(2 * C * 180)/H]  = 24\n",
        "\n",
        "Hint: If the output received is in decimal form, it should be rounded off to its nearest value. For example, if the output received is 26.0, it should be printed as 26. In case of input data being supplied to the question, it should be assumed to be a console input. "
      ],
      "metadata": {
        "id": "9wBkPy3FdVNP"
      }
    },
    {
      "cell_type": "code",
      "source": [
        "import math\n",
        "c=50\n",
        "h=30\n",
        "value = []\n",
        "items=[x for x in input().split(',')]\n",
        "for d in items:\n",
        "    value.append(str(int(round(math.sqrt(2*c*float(d)/h)))))\n",
        "\n",
        "print(','.join(value))"
      ],
      "metadata": {
        "colab": {
          "base_uri": "https://localhost:8080/"
        },
        "id": "YH6xaB1Yc35L",
        "outputId": "2d1c3713-5d82-465f-962c-1539a1eec7a1"
      },
      "execution_count": 16,
      "outputs": [
        {
          "output_type": "stream",
          "name": "stdout",
          "text": [
            "150\n",
            "22\n"
          ]
        }
      ]
    },
    {
      "cell_type": "code",
      "source": [
        "def sqrt(struct):\n",
        "  roots = []\n",
        "  for value in struct:\n",
        "    q = int(((2 * 50* value)/ 30) ** 0.5)\n",
        "    roots.append(q)\n",
        "  return roots"
      ],
      "metadata": {
        "id": "znJOJYJ574AF"
      },
      "execution_count": 22,
      "outputs": []
    },
    {
      "cell_type": "code",
      "source": [
        "sqrt([100, 120, 180])"
      ],
      "metadata": {
        "colab": {
          "base_uri": "https://localhost:8080/"
        },
        "id": "XZwlVI4r-A1Y",
        "outputId": "f0bc11d1-a565-4b40-d036-29a4586957c4"
      },
      "execution_count": 23,
      "outputs": [
        {
          "output_type": "execute_result",
          "data": {
            "text/plain": [
              "[18, 20, 24]"
            ]
          },
          "metadata": {},
          "execution_count": 23
        }
      ]
    }
  ]
}